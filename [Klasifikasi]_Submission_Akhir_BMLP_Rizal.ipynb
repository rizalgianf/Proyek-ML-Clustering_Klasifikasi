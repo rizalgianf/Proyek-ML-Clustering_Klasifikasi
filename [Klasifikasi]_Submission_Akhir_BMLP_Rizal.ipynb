{
  "cells": [
    {
      "cell_type": "markdown",
      "metadata": {
        "id": "fKADPWcFKlj3"
      },
      "source": [
        "# **1. Import Library**"
      ]
    },
    {
      "cell_type": "markdown",
      "metadata": {
        "id": "LgA3ERnVn84N"
      },
      "source": [
        "Pada tahap ini, Anda perlu mengimpor beberapa pustaka (library) Python yang dibutuhkan untuk analisis data dan pembangunan model machine learning."
      ]
    },
    {
      "cell_type": "code",
      "execution_count": null,
      "metadata": {
        "id": "BlmvjLY9M4Yj"
      },
      "outputs": [],
      "source": [
        "import pandas as pd\n",
        "import numpy as np\n",
        "from sklearn.model_selection import train_test_split\n",
        "from sklearn.ensemble import RandomForestClassifier\n",
        "from sklearn.metrics import accuracy_score, confusion_matrix, classification_report\n",
        "from sklearn.linear_model import LogisticRegression\n",
        "from sklearn.preprocessing import LabelEncoder\n",
        "\n"
      ]
    },
    {
      "cell_type": "markdown",
      "metadata": {
        "id": "f3YIEnAFKrKL"
      },
      "source": [
        "# **2. Memuat Dataset dari Hasil Clustering**"
      ]
    },
    {
      "cell_type": "markdown",
      "metadata": {
        "id": "Ey3ItwTen_7E"
      },
      "source": [
        "Memuat dataset hasil clustering dari file CSV ke dalam variabel DataFrame."
      ]
    },
    {
      "cell_type": "code",
      "execution_count": 33,
      "metadata": {
        "vscode": {
          "languageId": "markdown"
        }
      },
      "outputs": [
        {
          "data": {
            "text/html": [
              "<div>\n",
              "<style scoped>\n",
              "    .dataframe tbody tr th:only-of-type {\n",
              "        vertical-align: middle;\n",
              "    }\n",
              "\n",
              "    .dataframe tbody tr th {\n",
              "        vertical-align: top;\n",
              "    }\n",
              "\n",
              "    .dataframe thead th {\n",
              "        text-align: right;\n",
              "    }\n",
              "</style>\n",
              "<table border=\"1\" class=\"dataframe\">\n",
              "  <thead>\n",
              "    <tr style=\"text-align: right;\">\n",
              "      <th></th>\n",
              "      <th>No</th>\n",
              "      <th>year</th>\n",
              "      <th>month</th>\n",
              "      <th>day</th>\n",
              "      <th>hour</th>\n",
              "      <th>PM2.5</th>\n",
              "      <th>PM10</th>\n",
              "      <th>SO2</th>\n",
              "      <th>NO2</th>\n",
              "      <th>CO</th>\n",
              "      <th>O3</th>\n",
              "      <th>TEMP</th>\n",
              "      <th>PRES</th>\n",
              "      <th>DEWP</th>\n",
              "      <th>RAIN</th>\n",
              "      <th>wd</th>\n",
              "      <th>WSPM</th>\n",
              "      <th>station</th>\n",
              "      <th>Cluster</th>\n",
              "    </tr>\n",
              "  </thead>\n",
              "  <tbody>\n",
              "    <tr>\n",
              "      <th>0</th>\n",
              "      <td>1</td>\n",
              "      <td>2013</td>\n",
              "      <td>3</td>\n",
              "      <td>1</td>\n",
              "      <td>0</td>\n",
              "      <td>8.0</td>\n",
              "      <td>8.0</td>\n",
              "      <td>6.0</td>\n",
              "      <td>28.0</td>\n",
              "      <td>400.0</td>\n",
              "      <td>52.0</td>\n",
              "      <td>-0.7</td>\n",
              "      <td>1023.0</td>\n",
              "      <td>-18.8</td>\n",
              "      <td>-2.783349e-17</td>\n",
              "      <td>NNW</td>\n",
              "      <td>4.4</td>\n",
              "      <td>Wanliu</td>\n",
              "      <td>1</td>\n",
              "    </tr>\n",
              "    <tr>\n",
              "      <th>1</th>\n",
              "      <td>2</td>\n",
              "      <td>2013</td>\n",
              "      <td>3</td>\n",
              "      <td>1</td>\n",
              "      <td>1</td>\n",
              "      <td>9.0</td>\n",
              "      <td>9.0</td>\n",
              "      <td>6.0</td>\n",
              "      <td>28.0</td>\n",
              "      <td>400.0</td>\n",
              "      <td>50.0</td>\n",
              "      <td>-1.1</td>\n",
              "      <td>1023.2</td>\n",
              "      <td>-18.2</td>\n",
              "      <td>-2.783349e-17</td>\n",
              "      <td>N</td>\n",
              "      <td>4.7</td>\n",
              "      <td>Wanliu</td>\n",
              "      <td>1</td>\n",
              "    </tr>\n",
              "    <tr>\n",
              "      <th>2</th>\n",
              "      <td>6</td>\n",
              "      <td>2013</td>\n",
              "      <td>3</td>\n",
              "      <td>1</td>\n",
              "      <td>5</td>\n",
              "      <td>3.0</td>\n",
              "      <td>6.0</td>\n",
              "      <td>8.0</td>\n",
              "      <td>17.0</td>\n",
              "      <td>300.0</td>\n",
              "      <td>54.0</td>\n",
              "      <td>-2.2</td>\n",
              "      <td>1025.6</td>\n",
              "      <td>-19.6</td>\n",
              "      <td>-2.783349e-17</td>\n",
              "      <td>N</td>\n",
              "      <td>3.7</td>\n",
              "      <td>Wanliu</td>\n",
              "      <td>1</td>\n",
              "    </tr>\n",
              "    <tr>\n",
              "      <th>3</th>\n",
              "      <td>7</td>\n",
              "      <td>2013</td>\n",
              "      <td>3</td>\n",
              "      <td>1</td>\n",
              "      <td>6</td>\n",
              "      <td>3.0</td>\n",
              "      <td>3.0</td>\n",
              "      <td>10.0</td>\n",
              "      <td>21.0</td>\n",
              "      <td>300.0</td>\n",
              "      <td>52.0</td>\n",
              "      <td>-2.6</td>\n",
              "      <td>1026.5</td>\n",
              "      <td>-19.1</td>\n",
              "      <td>-2.783349e-17</td>\n",
              "      <td>NNE</td>\n",
              "      <td>2.5</td>\n",
              "      <td>Wanliu</td>\n",
              "      <td>1</td>\n",
              "    </tr>\n",
              "    <tr>\n",
              "      <th>4</th>\n",
              "      <td>8</td>\n",
              "      <td>2013</td>\n",
              "      <td>3</td>\n",
              "      <td>1</td>\n",
              "      <td>7</td>\n",
              "      <td>3.0</td>\n",
              "      <td>6.0</td>\n",
              "      <td>11.0</td>\n",
              "      <td>26.0</td>\n",
              "      <td>300.0</td>\n",
              "      <td>47.0</td>\n",
              "      <td>-1.6</td>\n",
              "      <td>1027.4</td>\n",
              "      <td>-19.1</td>\n",
              "      <td>-2.783349e-17</td>\n",
              "      <td>NNW</td>\n",
              "      <td>3.8</td>\n",
              "      <td>Wanliu</td>\n",
              "      <td>1</td>\n",
              "    </tr>\n",
              "  </tbody>\n",
              "</table>\n",
              "</div>"
            ],
            "text/plain": [
              "   No  year  month  day  hour  PM2.5  PM10   SO2   NO2     CO    O3  TEMP  \\\n",
              "0   1  2013      3    1     0    8.0   8.0   6.0  28.0  400.0  52.0  -0.7   \n",
              "1   2  2013      3    1     1    9.0   9.0   6.0  28.0  400.0  50.0  -1.1   \n",
              "2   6  2013      3    1     5    3.0   6.0   8.0  17.0  300.0  54.0  -2.2   \n",
              "3   7  2013      3    1     6    3.0   3.0  10.0  21.0  300.0  52.0  -2.6   \n",
              "4   8  2013      3    1     7    3.0   6.0  11.0  26.0  300.0  47.0  -1.6   \n",
              "\n",
              "     PRES  DEWP          RAIN   wd  WSPM station  Cluster  \n",
              "0  1023.0 -18.8 -2.783349e-17  NNW   4.4  Wanliu        1  \n",
              "1  1023.2 -18.2 -2.783349e-17    N   4.7  Wanliu        1  \n",
              "2  1025.6 -19.6 -2.783349e-17    N   3.7  Wanliu        1  \n",
              "3  1026.5 -19.1 -2.783349e-17  NNE   2.5  Wanliu        1  \n",
              "4  1027.4 -19.1 -2.783349e-17  NNW   3.8  Wanliu        1  "
            ]
          },
          "execution_count": 33,
          "metadata": {},
          "output_type": "execute_result"
        }
      ],
      "source": [
        "df = pd.read_csv('clustering_results.csv')\n",
        "label_encoder = LabelEncoder()\n",
        "\n",
        "df.head()"
      ]
    },
    {
      "cell_type": "markdown",
      "metadata": {
        "id": "KkPem5eWL2UP"
      },
      "source": [
        "# **3. Data Splitting**"
      ]
    },
    {
      "cell_type": "markdown",
      "metadata": {
        "id": "YYj1rl_JNI9Y"
      },
      "source": [
        "Tahap Data Splitting bertujuan untuk memisahkan dataset menjadi dua bagian: data latih (training set) dan data uji (test set)."
      ]
    },
    {
      "cell_type": "code",
      "execution_count": 34,
      "metadata": {
        "id": "OubAW-7ONKVj"
      },
      "outputs": [
        {
          "name": "stdout",
          "output_type": "stream",
          "text": [
            "Ukuran data latih: (24507, 18), (24507,)\n",
            "Ukuran data uji: (6127, 18), (6127,)\n"
          ]
        }
      ],
      "source": [
        "# Memisahkan fitur (X) dan target (y)\n",
        "X = df.drop(columns=['Cluster'])\n",
        "y = df['Cluster']\n",
        "\n",
        "# Membagi data menjadi data latih dan data uji\n",
        "X_train, X_test, y_train, y_test = train_test_split(X, y, test_size=0.2, random_state=42)\n",
        "\n",
        "# Menampilkan ukuran data latih dan data uji\n",
        "print(f\"Ukuran data latih: {X_train.shape}, {y_train.shape}\")\n",
        "print(f\"Ukuran data uji: {X_test.shape}, {y_test.shape}\")"
      ]
    },
    {
      "cell_type": "markdown",
      "metadata": {
        "id": "IVPbB03CMhTT"
      },
      "source": [
        "# **4. Membangun Model Klasifikasi**\n"
      ]
    },
    {
      "cell_type": "markdown",
      "metadata": {
        "id": "Ned1pL9zMmBK"
      },
      "source": [
        "## **a. Membangun Model Klasifikasi**"
      ]
    },
    {
      "cell_type": "markdown",
      "metadata": {
        "id": "WAWzPOE4Nkti"
      },
      "source": [
        "Setelah memilih algoritma klasifikasi yang sesuai, langkah selanjutnya adalah melatih model menggunakan data latih.\n",
        "\n",
        "Berikut adalah rekomendasi tahapannya.\n",
        "1. Pilih algoritma klasifikasi yang sesuai, seperti Logistic Regression, Decision Tree, Random Forest, atau K-Nearest Neighbors (KNN).\n",
        "2. Latih model menggunakan data latih."
      ]
    },
    {
      "cell_type": "code",
      "execution_count": null,
      "metadata": {
        "id": "4JYxBe87NLDk"
      },
      "outputs": [
        {
          "data": {
            "text/html": [
              "<style>#sk-container-id-4 {\n",
              "  /* Definition of color scheme common for light and dark mode */\n",
              "  --sklearn-color-text: #000;\n",
              "  --sklearn-color-text-muted: #666;\n",
              "  --sklearn-color-line: gray;\n",
              "  /* Definition of color scheme for unfitted estimators */\n",
              "  --sklearn-color-unfitted-level-0: #fff5e6;\n",
              "  --sklearn-color-unfitted-level-1: #f6e4d2;\n",
              "  --sklearn-color-unfitted-level-2: #ffe0b3;\n",
              "  --sklearn-color-unfitted-level-3: chocolate;\n",
              "  /* Definition of color scheme for fitted estimators */\n",
              "  --sklearn-color-fitted-level-0: #f0f8ff;\n",
              "  --sklearn-color-fitted-level-1: #d4ebff;\n",
              "  --sklearn-color-fitted-level-2: #b3dbfd;\n",
              "  --sklearn-color-fitted-level-3: cornflowerblue;\n",
              "\n",
              "  /* Specific color for light theme */\n",
              "  --sklearn-color-text-on-default-background: var(--sg-text-color, var(--theme-code-foreground, var(--jp-content-font-color1, black)));\n",
              "  --sklearn-color-background: var(--sg-background-color, var(--theme-background, var(--jp-layout-color0, white)));\n",
              "  --sklearn-color-border-box: var(--sg-text-color, var(--theme-code-foreground, var(--jp-content-font-color1, black)));\n",
              "  --sklearn-color-icon: #696969;\n",
              "\n",
              "  @media (prefers-color-scheme: dark) {\n",
              "    /* Redefinition of color scheme for dark theme */\n",
              "    --sklearn-color-text-on-default-background: var(--sg-text-color, var(--theme-code-foreground, var(--jp-content-font-color1, white)));\n",
              "    --sklearn-color-background: var(--sg-background-color, var(--theme-background, var(--jp-layout-color0, #111)));\n",
              "    --sklearn-color-border-box: var(--sg-text-color, var(--theme-code-foreground, var(--jp-content-font-color1, white)));\n",
              "    --sklearn-color-icon: #878787;\n",
              "  }\n",
              "}\n",
              "\n",
              "#sk-container-id-4 {\n",
              "  color: var(--sklearn-color-text);\n",
              "}\n",
              "\n",
              "#sk-container-id-4 pre {\n",
              "  padding: 0;\n",
              "}\n",
              "\n",
              "#sk-container-id-4 input.sk-hidden--visually {\n",
              "  border: 0;\n",
              "  clip: rect(1px 1px 1px 1px);\n",
              "  clip: rect(1px, 1px, 1px, 1px);\n",
              "  height: 1px;\n",
              "  margin: -1px;\n",
              "  overflow: hidden;\n",
              "  padding: 0;\n",
              "  position: absolute;\n",
              "  width: 1px;\n",
              "}\n",
              "\n",
              "#sk-container-id-4 div.sk-dashed-wrapped {\n",
              "  border: 1px dashed var(--sklearn-color-line);\n",
              "  margin: 0 0.4em 0.5em 0.4em;\n",
              "  box-sizing: border-box;\n",
              "  padding-bottom: 0.4em;\n",
              "  background-color: var(--sklearn-color-background);\n",
              "}\n",
              "\n",
              "#sk-container-id-4 div.sk-container {\n",
              "  /* jupyter's `normalize.less` sets `[hidden] { display: none; }`\n",
              "     but bootstrap.min.css set `[hidden] { display: none !important; }`\n",
              "     so we also need the `!important` here to be able to override the\n",
              "     default hidden behavior on the sphinx rendered scikit-learn.org.\n",
              "     See: https://github.com/scikit-learn/scikit-learn/issues/21755 */\n",
              "  display: inline-block !important;\n",
              "  position: relative;\n",
              "}\n",
              "\n",
              "#sk-container-id-4 div.sk-text-repr-fallback {\n",
              "  display: none;\n",
              "}\n",
              "\n",
              "div.sk-parallel-item,\n",
              "div.sk-serial,\n",
              "div.sk-item {\n",
              "  /* draw centered vertical line to link estimators */\n",
              "  background-image: linear-gradient(var(--sklearn-color-text-on-default-background), var(--sklearn-color-text-on-default-background));\n",
              "  background-size: 2px 100%;\n",
              "  background-repeat: no-repeat;\n",
              "  background-position: center center;\n",
              "}\n",
              "\n",
              "/* Parallel-specific style estimator block */\n",
              "\n",
              "#sk-container-id-4 div.sk-parallel-item::after {\n",
              "  content: \"\";\n",
              "  width: 100%;\n",
              "  border-bottom: 2px solid var(--sklearn-color-text-on-default-background);\n",
              "  flex-grow: 1;\n",
              "}\n",
              "\n",
              "#sk-container-id-4 div.sk-parallel {\n",
              "  display: flex;\n",
              "  align-items: stretch;\n",
              "  justify-content: center;\n",
              "  background-color: var(--sklearn-color-background);\n",
              "  position: relative;\n",
              "}\n",
              "\n",
              "#sk-container-id-4 div.sk-parallel-item {\n",
              "  display: flex;\n",
              "  flex-direction: column;\n",
              "}\n",
              "\n",
              "#sk-container-id-4 div.sk-parallel-item:first-child::after {\n",
              "  align-self: flex-end;\n",
              "  width: 50%;\n",
              "}\n",
              "\n",
              "#sk-container-id-4 div.sk-parallel-item:last-child::after {\n",
              "  align-self: flex-start;\n",
              "  width: 50%;\n",
              "}\n",
              "\n",
              "#sk-container-id-4 div.sk-parallel-item:only-child::after {\n",
              "  width: 0;\n",
              "}\n",
              "\n",
              "/* Serial-specific style estimator block */\n",
              "\n",
              "#sk-container-id-4 div.sk-serial {\n",
              "  display: flex;\n",
              "  flex-direction: column;\n",
              "  align-items: center;\n",
              "  background-color: var(--sklearn-color-background);\n",
              "  padding-right: 1em;\n",
              "  padding-left: 1em;\n",
              "}\n",
              "\n",
              "\n",
              "/* Toggleable style: style used for estimator/Pipeline/ColumnTransformer box that is\n",
              "clickable and can be expanded/collapsed.\n",
              "- Pipeline and ColumnTransformer use this feature and define the default style\n",
              "- Estimators will overwrite some part of the style using the `sk-estimator` class\n",
              "*/\n",
              "\n",
              "/* Pipeline and ColumnTransformer style (default) */\n",
              "\n",
              "#sk-container-id-4 div.sk-toggleable {\n",
              "  /* Default theme specific background. It is overwritten whether we have a\n",
              "  specific estimator or a Pipeline/ColumnTransformer */\n",
              "  background-color: var(--sklearn-color-background);\n",
              "}\n",
              "\n",
              "/* Toggleable label */\n",
              "#sk-container-id-4 label.sk-toggleable__label {\n",
              "  cursor: pointer;\n",
              "  display: flex;\n",
              "  width: 100%;\n",
              "  margin-bottom: 0;\n",
              "  padding: 0.5em;\n",
              "  box-sizing: border-box;\n",
              "  text-align: center;\n",
              "  align-items: start;\n",
              "  justify-content: space-between;\n",
              "  gap: 0.5em;\n",
              "}\n",
              "\n",
              "#sk-container-id-4 label.sk-toggleable__label .caption {\n",
              "  font-size: 0.6rem;\n",
              "  font-weight: lighter;\n",
              "  color: var(--sklearn-color-text-muted);\n",
              "}\n",
              "\n",
              "#sk-container-id-4 label.sk-toggleable__label-arrow:before {\n",
              "  /* Arrow on the left of the label */\n",
              "  content: \"▸\";\n",
              "  float: left;\n",
              "  margin-right: 0.25em;\n",
              "  color: var(--sklearn-color-icon);\n",
              "}\n",
              "\n",
              "#sk-container-id-4 label.sk-toggleable__label-arrow:hover:before {\n",
              "  color: var(--sklearn-color-text);\n",
              "}\n",
              "\n",
              "/* Toggleable content - dropdown */\n",
              "\n",
              "#sk-container-id-4 div.sk-toggleable__content {\n",
              "  max-height: 0;\n",
              "  max-width: 0;\n",
              "  overflow: hidden;\n",
              "  text-align: left;\n",
              "  /* unfitted */\n",
              "  background-color: var(--sklearn-color-unfitted-level-0);\n",
              "}\n",
              "\n",
              "#sk-container-id-4 div.sk-toggleable__content.fitted {\n",
              "  /* fitted */\n",
              "  background-color: var(--sklearn-color-fitted-level-0);\n",
              "}\n",
              "\n",
              "#sk-container-id-4 div.sk-toggleable__content pre {\n",
              "  margin: 0.2em;\n",
              "  border-radius: 0.25em;\n",
              "  color: var(--sklearn-color-text);\n",
              "  /* unfitted */\n",
              "  background-color: var(--sklearn-color-unfitted-level-0);\n",
              "}\n",
              "\n",
              "#sk-container-id-4 div.sk-toggleable__content.fitted pre {\n",
              "  /* unfitted */\n",
              "  background-color: var(--sklearn-color-fitted-level-0);\n",
              "}\n",
              "\n",
              "#sk-container-id-4 input.sk-toggleable__control:checked~div.sk-toggleable__content {\n",
              "  /* Expand drop-down */\n",
              "  max-height: 200px;\n",
              "  max-width: 100%;\n",
              "  overflow: auto;\n",
              "}\n",
              "\n",
              "#sk-container-id-4 input.sk-toggleable__control:checked~label.sk-toggleable__label-arrow:before {\n",
              "  content: \"▾\";\n",
              "}\n",
              "\n",
              "/* Pipeline/ColumnTransformer-specific style */\n",
              "\n",
              "#sk-container-id-4 div.sk-label input.sk-toggleable__control:checked~label.sk-toggleable__label {\n",
              "  color: var(--sklearn-color-text);\n",
              "  background-color: var(--sklearn-color-unfitted-level-2);\n",
              "}\n",
              "\n",
              "#sk-container-id-4 div.sk-label.fitted input.sk-toggleable__control:checked~label.sk-toggleable__label {\n",
              "  background-color: var(--sklearn-color-fitted-level-2);\n",
              "}\n",
              "\n",
              "/* Estimator-specific style */\n",
              "\n",
              "/* Colorize estimator box */\n",
              "#sk-container-id-4 div.sk-estimator input.sk-toggleable__control:checked~label.sk-toggleable__label {\n",
              "  /* unfitted */\n",
              "  background-color: var(--sklearn-color-unfitted-level-2);\n",
              "}\n",
              "\n",
              "#sk-container-id-4 div.sk-estimator.fitted input.sk-toggleable__control:checked~label.sk-toggleable__label {\n",
              "  /* fitted */\n",
              "  background-color: var(--sklearn-color-fitted-level-2);\n",
              "}\n",
              "\n",
              "#sk-container-id-4 div.sk-label label.sk-toggleable__label,\n",
              "#sk-container-id-4 div.sk-label label {\n",
              "  /* The background is the default theme color */\n",
              "  color: var(--sklearn-color-text-on-default-background);\n",
              "}\n",
              "\n",
              "/* On hover, darken the color of the background */\n",
              "#sk-container-id-4 div.sk-label:hover label.sk-toggleable__label {\n",
              "  color: var(--sklearn-color-text);\n",
              "  background-color: var(--sklearn-color-unfitted-level-2);\n",
              "}\n",
              "\n",
              "/* Label box, darken color on hover, fitted */\n",
              "#sk-container-id-4 div.sk-label.fitted:hover label.sk-toggleable__label.fitted {\n",
              "  color: var(--sklearn-color-text);\n",
              "  background-color: var(--sklearn-color-fitted-level-2);\n",
              "}\n",
              "\n",
              "/* Estimator label */\n",
              "\n",
              "#sk-container-id-4 div.sk-label label {\n",
              "  font-family: monospace;\n",
              "  font-weight: bold;\n",
              "  display: inline-block;\n",
              "  line-height: 1.2em;\n",
              "}\n",
              "\n",
              "#sk-container-id-4 div.sk-label-container {\n",
              "  text-align: center;\n",
              "}\n",
              "\n",
              "/* Estimator-specific */\n",
              "#sk-container-id-4 div.sk-estimator {\n",
              "  font-family: monospace;\n",
              "  border: 1px dotted var(--sklearn-color-border-box);\n",
              "  border-radius: 0.25em;\n",
              "  box-sizing: border-box;\n",
              "  margin-bottom: 0.5em;\n",
              "  /* unfitted */\n",
              "  background-color: var(--sklearn-color-unfitted-level-0);\n",
              "}\n",
              "\n",
              "#sk-container-id-4 div.sk-estimator.fitted {\n",
              "  /* fitted */\n",
              "  background-color: var(--sklearn-color-fitted-level-0);\n",
              "}\n",
              "\n",
              "/* on hover */\n",
              "#sk-container-id-4 div.sk-estimator:hover {\n",
              "  /* unfitted */\n",
              "  background-color: var(--sklearn-color-unfitted-level-2);\n",
              "}\n",
              "\n",
              "#sk-container-id-4 div.sk-estimator.fitted:hover {\n",
              "  /* fitted */\n",
              "  background-color: var(--sklearn-color-fitted-level-2);\n",
              "}\n",
              "\n",
              "/* Specification for estimator info (e.g. \"i\" and \"?\") */\n",
              "\n",
              "/* Common style for \"i\" and \"?\" */\n",
              "\n",
              ".sk-estimator-doc-link,\n",
              "a:link.sk-estimator-doc-link,\n",
              "a:visited.sk-estimator-doc-link {\n",
              "  float: right;\n",
              "  font-size: smaller;\n",
              "  line-height: 1em;\n",
              "  font-family: monospace;\n",
              "  background-color: var(--sklearn-color-background);\n",
              "  border-radius: 1em;\n",
              "  height: 1em;\n",
              "  width: 1em;\n",
              "  text-decoration: none !important;\n",
              "  margin-left: 0.5em;\n",
              "  text-align: center;\n",
              "  /* unfitted */\n",
              "  border: var(--sklearn-color-unfitted-level-1) 1pt solid;\n",
              "  color: var(--sklearn-color-unfitted-level-1);\n",
              "}\n",
              "\n",
              ".sk-estimator-doc-link.fitted,\n",
              "a:link.sk-estimator-doc-link.fitted,\n",
              "a:visited.sk-estimator-doc-link.fitted {\n",
              "  /* fitted */\n",
              "  border: var(--sklearn-color-fitted-level-1) 1pt solid;\n",
              "  color: var(--sklearn-color-fitted-level-1);\n",
              "}\n",
              "\n",
              "/* On hover */\n",
              "div.sk-estimator:hover .sk-estimator-doc-link:hover,\n",
              ".sk-estimator-doc-link:hover,\n",
              "div.sk-label-container:hover .sk-estimator-doc-link:hover,\n",
              ".sk-estimator-doc-link:hover {\n",
              "  /* unfitted */\n",
              "  background-color: var(--sklearn-color-unfitted-level-3);\n",
              "  color: var(--sklearn-color-background);\n",
              "  text-decoration: none;\n",
              "}\n",
              "\n",
              "div.sk-estimator.fitted:hover .sk-estimator-doc-link.fitted:hover,\n",
              ".sk-estimator-doc-link.fitted:hover,\n",
              "div.sk-label-container:hover .sk-estimator-doc-link.fitted:hover,\n",
              ".sk-estimator-doc-link.fitted:hover {\n",
              "  /* fitted */\n",
              "  background-color: var(--sklearn-color-fitted-level-3);\n",
              "  color: var(--sklearn-color-background);\n",
              "  text-decoration: none;\n",
              "}\n",
              "\n",
              "/* Span, style for the box shown on hovering the info icon */\n",
              ".sk-estimator-doc-link span {\n",
              "  display: none;\n",
              "  z-index: 9999;\n",
              "  position: relative;\n",
              "  font-weight: normal;\n",
              "  right: .2ex;\n",
              "  padding: .5ex;\n",
              "  margin: .5ex;\n",
              "  width: min-content;\n",
              "  min-width: 20ex;\n",
              "  max-width: 50ex;\n",
              "  color: var(--sklearn-color-text);\n",
              "  box-shadow: 2pt 2pt 4pt #999;\n",
              "  /* unfitted */\n",
              "  background: var(--sklearn-color-unfitted-level-0);\n",
              "  border: .5pt solid var(--sklearn-color-unfitted-level-3);\n",
              "}\n",
              "\n",
              ".sk-estimator-doc-link.fitted span {\n",
              "  /* fitted */\n",
              "  background: var(--sklearn-color-fitted-level-0);\n",
              "  border: var(--sklearn-color-fitted-level-3);\n",
              "}\n",
              "\n",
              ".sk-estimator-doc-link:hover span {\n",
              "  display: block;\n",
              "}\n",
              "\n",
              "/* \"?\"-specific style due to the `<a>` HTML tag */\n",
              "\n",
              "#sk-container-id-4 a.estimator_doc_link {\n",
              "  float: right;\n",
              "  font-size: 1rem;\n",
              "  line-height: 1em;\n",
              "  font-family: monospace;\n",
              "  background-color: var(--sklearn-color-background);\n",
              "  border-radius: 1rem;\n",
              "  height: 1rem;\n",
              "  width: 1rem;\n",
              "  text-decoration: none;\n",
              "  /* unfitted */\n",
              "  color: var(--sklearn-color-unfitted-level-1);\n",
              "  border: var(--sklearn-color-unfitted-level-1) 1pt solid;\n",
              "}\n",
              "\n",
              "#sk-container-id-4 a.estimator_doc_link.fitted {\n",
              "  /* fitted */\n",
              "  border: var(--sklearn-color-fitted-level-1) 1pt solid;\n",
              "  color: var(--sklearn-color-fitted-level-1);\n",
              "}\n",
              "\n",
              "/* On hover */\n",
              "#sk-container-id-4 a.estimator_doc_link:hover {\n",
              "  /* unfitted */\n",
              "  background-color: var(--sklearn-color-unfitted-level-3);\n",
              "  color: var(--sklearn-color-background);\n",
              "  text-decoration: none;\n",
              "}\n",
              "\n",
              "#sk-container-id-4 a.estimator_doc_link.fitted:hover {\n",
              "  /* fitted */\n",
              "  background-color: var(--sklearn-color-fitted-level-3);\n",
              "}\n",
              "</style><div id=\"sk-container-id-4\" class=\"sk-top-container\"><div class=\"sk-text-repr-fallback\"><pre>RandomForestClassifier(random_state=42)</pre><b>In a Jupyter environment, please rerun this cell to show the HTML representation or trust the notebook. <br />On GitHub, the HTML representation is unable to render, please try loading this page with nbviewer.org.</b></div><div class=\"sk-container\" hidden><div class=\"sk-item\"><div class=\"sk-estimator fitted sk-toggleable\"><input class=\"sk-toggleable__control sk-hidden--visually\" id=\"sk-estimator-id-4\" type=\"checkbox\" checked><label for=\"sk-estimator-id-4\" class=\"sk-toggleable__label fitted sk-toggleable__label-arrow\"><div><div>RandomForestClassifier</div></div><div><a class=\"sk-estimator-doc-link fitted\" rel=\"noreferrer\" target=\"_blank\" href=\"https://scikit-learn.org/1.6/modules/generated/sklearn.ensemble.RandomForestClassifier.html\">?<span>Documentation for RandomForestClassifier</span></a><span class=\"sk-estimator-doc-link fitted\">i<span>Fitted</span></span></div></label><div class=\"sk-toggleable__content fitted\"><pre>RandomForestClassifier(random_state=42)</pre></div> </div></div></div></div>"
            ],
            "text/plain": [
              "RandomForestClassifier(random_state=42)"
            ]
          },
          "execution_count": 44,
          "metadata": {},
          "output_type": "execute_result"
        }
      ],
      "source": [
        "# Logistic Regression\n",
        "logreg = LogisticRegression(max_iter=2000, solver='lbfgs', random_state=42)\n",
        "logreg.fit(X_train_scaled, y_train)\n",
        "\n",
        "# Random Forest Classifier\n",
        "rf = RandomForestClassifier(random_state=42)\n",
        "rf.fit(X_train_encoded, y_train)\n",
        "\n"
      ]
    },
    {
      "cell_type": "markdown",
      "metadata": {
        "id": "seYoHNY3XU1y"
      },
      "source": [
        "\n",
        " Penjelasan Kode Logistic Regression dan Random Forest Classifier\n",
        "\n",
        " Logistic Regression\n",
        "python\n",
        "logreg = LogisticRegression(max_iter=2000, solver='lbfgs', random_state=42)\n",
        "logreg.fit(X_train_scaled, y_train)\n",
        "```\n",
        "1. **`LogisticRegression`**: Membuat model klasifikasi Logistic Regression.\n",
        "    - `max_iter=2000`: Menentukan jumlah iterasi maksimum untuk algoritma optimasi. Nilai ini ditingkatkan untuk memastikan konvergensi model pada dataset yang besar.\n",
        "    - `solver='lbfgs'`: Solver yang digunakan untuk optimasi. `lbfgs` adalah algoritma optimasi berbasis gradien yang cocok untuk dataset dengan ukuran kecil hingga menengah.\n",
        "    - `random_state=42`: Menetapkan seed untuk memastikan hasil yang konsisten setiap kali model dijalankan.\n",
        "2. **`logreg.fit(X_train_scaled, y_train)`**: Melatih model Logistic Regression menggunakan data latih yang telah diskalakan (`X_train_scaled`) dan label target (`y_train`).\n",
        "\n",
        "#### Random Forest Classifier\n",
        "```python\n",
        "rf = RandomForestClassifier(random_state=42)\n",
        "rf.fit(X_train_encoded, y_train)\n",
        "```\n",
        "1. **`RandomForestClassifier`**: Membuat model klasifikasi Random Forest.\n",
        "    - `random_state=42`: Menetapkan seed untuk memastikan hasil yang konsisten setiap kali model dijalankan.\n",
        "2. **`rf.fit(X_train_encoded, y_train)`**: Melatih model Random Forest menggunakan data latih yang telah diencoding (`X_train_encoded`) dan label target (`y_train`).\n",
        "\n",
        "### Perbedaan Utama\n",
        "- Logistic Regression adalah model linier yang cocok untuk data yang memiliki hubungan linier antara fitur dan target.\n",
        "- Random Forest adalah model ensemble berbasis pohon keputusan yang lebih fleksibel dan mampu menangkap hubungan non-linier dalam data.\n",
        "```"
      ]
    },
    {
      "cell_type": "markdown",
      "metadata": {
        "id": "ergzChZFEL-O"
      },
      "source": [
        "## **b. Evaluasi Model Klasifikasi**"
      ]
    },
    {
      "cell_type": "markdown",
      "metadata": {
        "id": "zOm68u-7NpLT"
      },
      "source": [
        "Berikut adalah **rekomendasi** tahapannya.\n",
        "1. Lakukan prediksi menggunakan data uji.\n",
        "2. Hitung metrik evaluasi seperti Accuracy dan F1-Score (Opsional: Precision dan Recall).\n",
        "3. Buat confusion matrix untuk melihat detail prediksi benar dan salah."
      ]
    },
    {
      "cell_type": "code",
      "execution_count": 48,
      "metadata": {
        "id": "tMq4QAssNLip"
      },
      "outputs": [
        {
          "name": "stdout",
          "output_type": "stream",
          "text": [
            "Accuracy Logistic Regression: 0.9985\n",
            "Accuracy Random Forest Classifier: 0.9876\n",
            "F1-Score Logistic Regression: 0.9985\n",
            "F1-Score Random Forest Classifier: 0.9876\n"
          ]
        },
        {
          "data": {
            "image/png": "[encoded data removed]",
            "text/plain": [
              "<Figure size 1000x700 with 2 Axes>"
            ]
          },
          "metadata": {},
          "output_type": "display_data"
        },
        {
          "data": {
            "image/png": "[encoded data removed]",
            "text/plain": [
              "<Figure size 1000x700 with 2 Axes>"
            ]
          },
          "metadata": {},
          "output_type": "display_data"
        }
      ],
      "source": [
        "# Prediksi menggunakan data uji\n",
        "y_pred_logreg = logreg.predict(X_test_scaled)\n",
        "y_pred_rf = rf.predict(X_test_encoded)\n",
        "\n",
        "# Menghitung metrik evaluasi\n",
        "accuracy_logreg = accuracy_score(y_test, y_pred_logreg)\n",
        "accuracy_rf = accuracy_score(y_test, y_pred_rf)\n",
        "\n",
        "f1_logreg = f1_score(y_test, y_pred_logreg, average='weighted')\n",
        "f1_rf = f1_score(y_test, y_pred_rf, average='weighted')\n",
        "\n",
        "# Menampilkan hasil evaluasi\n",
        "print(f'Accuracy Logistic Regression: {accuracy_logreg:.4f}')\n",
        "print(f'Accuracy Random Forest Classifier: {accuracy_rf:.4f}')\n",
        "print(f'F1-Score Logistic Regression: {f1_logreg:.4f}')\n",
        "print(f'F1-Score Random Forest Classifier: {f1_rf:.4f}')\n",
        "\n",
        "# Membuat confusion matrix\n",
        "cm_logreg = confusion_matrix(y_test, y_pred_logreg)\n",
        "cm_rf = confusion_matrix(y_test, y_pred_rf)\n",
        "\n",
        "# Menampilkan confusion matrix menggunakan heatmap\n",
        "plt.figure(figsize=(10, 7))\n",
        "sns.heatmap(cm_logreg, annot=True, fmt='d', cmap='Blues', xticklabels=['Cluster 0', 'Cluster 1'], yticklabels=['Cluster 0', 'Cluster 1'])\n",
        "plt.title('Confusion Matrix Logistic Regression')\n",
        "plt.xlabel('Predicted')\n",
        "plt.ylabel('Actual')\n",
        "plt.show()\n",
        "\n",
        "plt.figure(figsize=(10, 7))\n",
        "sns.heatmap(cm_rf, annot=True, fmt='d', cmap='Blues', xticklabels=['Cluster 0', 'Cluster 1'], yticklabels=['Cluster 0', 'Cluster 1'])\n",
        "plt.title('Confusion Matrix Random Forest Classifier')\n",
        "plt.xlabel('Predicted')\n",
        "plt.ylabel('Actual')\n",
        "plt.show()"
      ]
    },
    {
      "cell_type": "markdown",
      "metadata": {
        "id": "H4_9OwrsXZlz"
      },
      "source": [
        " **Hasil Evaluasi Algoritma**\n",
        "\n",
        "Pada tahap evaluasi, dua algoritma klasifikasi telah digunakan, yaitu **Logistic Regression** dan **Random Forest Classifier**. Berikut adalah hasil evaluasi berdasarkan metrik **Accuracy** dan **F1-Score**:\n",
        "\n",
        "| **Algoritma**              | **Accuracy** | **F1-Score** |\n",
        "|----------------------------|--------------|--------------|\n",
        "| Logistic Regression        | 0.9985       | 0.9985       |\n",
        "| Random Forest Classifier   | 0.9876       | 0.9876       |\n",
        "\n",
        "#### **Analisis Perbandingan**\n",
        "1. **Logistic Regression**:\n",
        "    - Memiliki nilai **Accuracy** dan **F1-Score** yang sangat tinggi, yaitu 0.9985. \n",
        "    - Algoritma ini menunjukkan performa yang sangat baik dalam memprediksi data dengan tingkat kesalahan yang sangat rendah.\n",
        "\n",
        "2. **Random Forest Classifier**:\n",
        "    - Meskipun memiliki performa yang baik dengan **Accuracy** dan **F1-Score** sebesar 0.9876, hasilnya sedikit lebih rendah dibandingkan Logistic Regression.\n",
        "    - Algoritma ini lebih fleksibel dalam menangani data dengan hubungan non-linear, tetapi pada kasus ini, Logistic Regression memberikan hasil yang lebih optimal.\n",
        "\n",
        "#### **Kesimpulan**\n",
        "- Logistic Regression memberikan performa yang lebih baik dibandingkan Random Forest Classifier pada dataset ini.\n",
        "- Dengan nilai **Accuracy** dan **F1-Score** yang hampir sempurna, Logistic Regression menjadi pilihan yang lebih unggul untuk tugas klasifikasi ini.\n"
      ]
    },
    {
      "cell_type": "markdown",
      "metadata": {
        "id": "ph9yIYDXEPuB"
      },
      "source": [
        "## **c. Tuning Model Klasifikasi (Optional)**"
      ]
    },
    {
      "cell_type": "markdown",
      "metadata": {
        "id": "-Bikx3LINv5e"
      },
      "source": [
        "Gunakan GridSearchCV, RandomizedSearchCV, atau metode lainnya untuk mencari kombinasi hyperparameter terbaik"
      ]
    },
    {
      "cell_type": "code",
      "execution_count": null,
      "metadata": {
        "id": "winbFzb8NL95"
      },
      "outputs": [],
      "source": [
        "#Type your code here"
      ]
    },
    {
      "cell_type": "markdown",
      "metadata": {
        "id": "hE7pqlEPEYzI"
      },
      "source": [
        "## **d. Evaluasi Model Klasifikasi setelah Tuning (Optional)**"
      ]
    },
    {
      "cell_type": "markdown",
      "metadata": {
        "id": "feaPESoeN0zz"
      },
      "source": [
        "Berikut adalah rekomendasi tahapannya.\n",
        "1. Gunakan model dengan hyperparameter terbaik.\n",
        "2. Hitung ulang metrik evaluasi untuk melihat apakah ada peningkatan performa."
      ]
    },
    {
      "cell_type": "code",
      "execution_count": null,
      "metadata": {
        "id": "HTXZRvEeNMb1"
      },
      "outputs": [],
      "source": [
        "#Type your code here"
      ]
    },
    {
      "cell_type": "markdown",
      "metadata": {
        "id": "ZRsOdm4uEgAW"
      },
      "source": [
        "## **e. Analisis Hasil Evaluasi Model Klasifikasi**"
      ]
    },
    {
      "cell_type": "markdown",
      "metadata": {
        "id": "Hm3BhSi6N4_l"
      },
      "source": [
        "### **Hasil Evaluasi Algoritma**\n",
        "\n",
        "Pada tahap evaluasi, dua algoritma klasifikasi yang digunakan adalah **Logistic Regression** dan **Random Forest Classifier**. Kedua algoritma ini dipilih karena sering digunakan dalam tugas klasifikasi dan memiliki karakteristik yang berbeda. Evaluasi dilakukan menggunakan dua metrik penting dalam machine learning, yaitu **Accuracy** dan **F1-Score**, yang memberikan gambaran tentang seberapa baik model dalam mengklasifikasikan data.\n",
        "\n",
        "| **Algoritma**              | **Accuracy** | **F1-Score** |\n",
        "|----------------------------|--------------|--------------|\n",
        "| Logistic Regression        | 0.9985       | 0.9985       |\n",
        "| Random Forest Classifier   | 0.9876       | 0.9876       |\n",
        "\n",
        "---\n",
        "\n",
        "### **Analisis Perbandingan**\n",
        "\n",
        "#### Logistic Regression:\n",
        "- **Logistic Regression** adalah algoritma yang sering digunakan untuk masalah klasifikasi biner, meskipun juga dapat diperluas untuk klasifikasi multikelas. \n",
        "- Dalam hal ini, Logistic Regression menghasilkan nilai **Accuracy** dan **F1-Score** yang sangat tinggi, yaitu **0.9985** untuk kedua metrik tersebut.\n",
        "- **Accuracy** yang tinggi menunjukkan bahwa model ini berhasil memprediksi hampir semua data dengan benar. Ini berarti model mampu memisahkan kelas dengan sangat baik, menghindari kesalahan klasifikasi pada sebagian besar data.\n",
        "- **F1-Score** yang sangat tinggi menunjukkan bahwa model ini tidak hanya akurat dalam memprediksi, tetapi juga mampu mempertimbangkan keseimbangan antara **Precision** (keakuratan prediksi positif) dan **Recall** (kemampuan untuk mendeteksi data positif). F1-Score yang mendekati 1 menandakan performa yang sangat baik tanpa bias terhadap kelas tertentu.\n",
        "\n",
        "#### Random Forest Classifier:\n",
        "- **Random Forest Classifier** adalah algoritma berbasis ensemble learning yang menggunakan banyak pohon keputusan untuk membuat prediksi dan menggabungkan hasilnya untuk menghasilkan keputusan akhir yang lebih stabil dan akurat.\n",
        "- Meskipun Random Forest memiliki nilai **Accuracy** dan **F1-Score** sebesar **0.9876**, yang masih sangat baik, hasil ini sedikit lebih rendah dibandingkan Logistic Regression.\n",
        "- Hal ini mungkin terjadi karena Logistic Regression bekerja lebih baik pada data yang memiliki hubungan linear antara fitur dan target, sedangkan Random Forest dapat mengalami sedikit overfitting atau kesulitan dalam menangani data dengan hubungan yang lebih sederhana.\n",
        "- Random Forest lebih fleksibel dalam menangani hubungan non-linear dan lebih tahan terhadap outlier, sehingga sering kali menjadi pilihan yang baik dalam banyak kasus. Namun, pada dataset ini, Logistic Regression lebih optimal karena data mungkin memiliki struktur linear yang lebih cocok untuk model ini.\n",
        "\n",
        "---\n",
        "\n",
        "### **Kesimpulan**\n",
        "- **Logistic Regression** memberikan performa yang lebih baik dibandingkan **Random Forest Classifier** pada dataset ini. Performa yang sangat baik pada kedua metrik (**Accuracy** dan **F1-Score**) menunjukkan bahwa model ini sangat efisien dalam memprediksi kelas dengan kesalahan yang sangat rendah.\n",
        "- Meskipun **Random Forest Classifier** adalah algoritma yang kuat dan lebih fleksibel dalam menangani data yang lebih kompleks, pada dataset ini Logistic Regression lebih unggul. Hal ini menunjukkan bahwa dataset ini mungkin memiliki hubungan linear yang dapat dimanfaatkan dengan baik oleh Logistic Regression.\n",
        "- Dengan nilai **Accuracy** dan **F1-Score** yang hampir sempurna, Logistic Regression menjadi pilihan yang lebih optimal untuk tugas klasifikasi ini. Algoritma ini lebih sederhana, lebih mudah dipahami, dan memberikan hasil yang sangat baik untuk masalah klasifikasi ini. Namun, untuk tugas lain yang lebih kompleks atau dataset yang lebih besar dan lebih bervariasi, Random Forest mungkin masih menjadi pilihan yang sangat berguna karena kemampuannya untuk menangani data dengan lebih banyak variasi dan ketidakteraturan."
      ]
    }
  ],
  "metadata": {
    "colab": {
      "provenance": []
    },
    "kernelspec": {
      "display_name": "Python 3",
      "name": "python3"
    },
    "language_info": {
      "codemirror_mode": {
        "name": "ipython",
        "version": 3
      },
      "file_extension": ".py",
      "mimetype": "text/x-python",
      "name": "python",
      "nbconvert_exporter": "python",
      "pygments_lexer": "ipython3",
      "version": "3.13.0"
    }
  },
  "nbformat": 4,
  "nbformat_minor": 0
}
